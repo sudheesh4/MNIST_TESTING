{
  "nbformat": 4,
  "nbformat_minor": 0,
  "metadata": {
    "colab": {
      "provenance": [],
      "gpuType": "T4"
    },
    "kernelspec": {
      "name": "python3",
      "display_name": "Python 3"
    },
    "language_info": {
      "name": "python"
    },
    "accelerator": "GPU"
  },
  "cells": [
    {
      "cell_type": "code",
      "execution_count": null,
      "metadata": {
        "id": "k8m-oJkrkwt1"
      },
      "outputs": [],
      "source": [
        "import torch\n",
        "from torch import nn\n",
        "import math\n",
        "import matplotlib.pyplot as plt\n",
        "import torchvision\n",
        "import torchvision.transforms as transforms"
      ]
    },
    {
      "cell_type": "code",
      "source": [
        "torch.manual_seed(473)"
      ],
      "metadata": {
        "colab": {
          "base_uri": "https://localhost:8080/"
        },
        "id": "nWffVMO7k95J",
        "outputId": "dbc0013e-56a0-468b-efa4-b0bdfe52eb75"
      },
      "execution_count": null,
      "outputs": [
        {
          "output_type": "execute_result",
          "data": {
            "text/plain": [
              "<torch._C.Generator at 0x7f672c0bfc30>"
            ]
          },
          "metadata": {},
          "execution_count": 3
        }
      ]
    },
    {
      "cell_type": "code",
      "source": [
        "device=\"\"\n",
        "if torch.cuda.is_available():\n",
        "    device=torch.device(\"cuda\")\n",
        "else:\n",
        "    device=torch.device(\"cpu\")\n",
        "device"
      ],
      "metadata": {
        "colab": {
          "base_uri": "https://localhost:8080/"
        },
        "id": "NyDWz95clDmm",
        "outputId": "ad67809b-3771-44e8-c0d2-53625c147a52"
      },
      "execution_count": null,
      "outputs": [
        {
          "output_type": "execute_result",
          "data": {
            "text/plain": [
              "device(type='cuda')"
            ]
          },
          "metadata": {},
          "execution_count": 4
        }
      ]
    },
    {
      "cell_type": "code",
      "source": [
        "transform=transforms.Compose([transforms.ToTensor(),transforms.Normalize((0.5,),(0.5,))])"
      ],
      "metadata": {
        "id": "SYWR85kplGdh"
      },
      "execution_count": null,
      "outputs": []
    },
    {
      "cell_type": "code",
      "source": [
        "train_set=torchvision.datasets.MNIST(root=\".\",train=True,download=True,transform=transform)"
      ],
      "metadata": {
        "colab": {
          "base_uri": "https://localhost:8080/"
        },
        "id": "aCNI0kqElMVn",
        "outputId": "b3540800-1d91-4379-a1eb-6c50a667f898"
      },
      "execution_count": null,
      "outputs": [
        {
          "output_type": "stream",
          "name": "stdout",
          "text": [
            "Downloading http://yann.lecun.com/exdb/mnist/train-images-idx3-ubyte.gz\n",
            "Downloading http://yann.lecun.com/exdb/mnist/train-images-idx3-ubyte.gz to ./MNIST/raw/train-images-idx3-ubyte.gz\n"
          ]
        },
        {
          "output_type": "stream",
          "name": "stderr",
          "text": [
            "100%|██████████| 9912422/9912422 [00:00<00:00, 34066500.64it/s]\n"
          ]
        },
        {
          "output_type": "stream",
          "name": "stdout",
          "text": [
            "Extracting ./MNIST/raw/train-images-idx3-ubyte.gz to ./MNIST/raw\n",
            "\n",
            "Downloading http://yann.lecun.com/exdb/mnist/train-labels-idx1-ubyte.gz\n",
            "Downloading http://yann.lecun.com/exdb/mnist/train-labels-idx1-ubyte.gz to ./MNIST/raw/train-labels-idx1-ubyte.gz\n"
          ]
        },
        {
          "output_type": "stream",
          "name": "stderr",
          "text": [
            "100%|██████████| 28881/28881 [00:00<00:00, 118181164.71it/s]\n"
          ]
        },
        {
          "output_type": "stream",
          "name": "stdout",
          "text": [
            "Extracting ./MNIST/raw/train-labels-idx1-ubyte.gz to ./MNIST/raw\n",
            "\n",
            "Downloading http://yann.lecun.com/exdb/mnist/t10k-images-idx3-ubyte.gz\n",
            "Downloading http://yann.lecun.com/exdb/mnist/t10k-images-idx3-ubyte.gz to ./MNIST/raw/t10k-images-idx3-ubyte.gz\n"
          ]
        },
        {
          "output_type": "stream",
          "name": "stderr",
          "text": [
            "100%|██████████| 1648877/1648877 [00:00<00:00, 43133202.34it/s]\n"
          ]
        },
        {
          "output_type": "stream",
          "name": "stdout",
          "text": [
            "Extracting ./MNIST/raw/t10k-images-idx3-ubyte.gz to ./MNIST/raw\n",
            "\n",
            "Downloading http://yann.lecun.com/exdb/mnist/t10k-labels-idx1-ubyte.gz\n",
            "Downloading http://yann.lecun.com/exdb/mnist/t10k-labels-idx1-ubyte.gz to ./MNIST/raw/t10k-labels-idx1-ubyte.gz\n"
          ]
        },
        {
          "output_type": "stream",
          "name": "stderr",
          "text": [
            "100%|██████████| 4542/4542 [00:00<00:00, 18604032.00it/s]\n"
          ]
        },
        {
          "output_type": "stream",
          "name": "stdout",
          "text": [
            "Extracting ./MNIST/raw/t10k-labels-idx1-ubyte.gz to ./MNIST/raw\n",
            "\n"
          ]
        }
      ]
    },
    {
      "cell_type": "code",
      "source": [
        "\n",
        "#K=torch.Tensor(next(itt))\n",
        "#torch.cat((K,next(itt)))"
      ],
      "metadata": {
        "id": "PXs1zwvoyHoN"
      },
      "execution_count": null,
      "outputs": []
    },
    {
      "cell_type": "code",
      "source": [
        "batch_size=32\n",
        "train_loader=torch.utils.data.DataLoader(train_set,batch_size=batch_size,shuffle=True)\n",
        "#itt=iter(train_set)\n",
        "\n"
      ],
      "metadata": {
        "id": "TtauuV-slO1g"
      },
      "execution_count": null,
      "outputs": []
    },
    {
      "cell_type": "code",
      "source": [],
      "metadata": {
        "id": "qO7p2D5F7fgh"
      },
      "execution_count": null,
      "outputs": []
    },
    {
      "cell_type": "code",
      "source": [
        "#for i in range(len(train_set)-1):\n",
        " # k=next(itt)\n",
        "\n",
        "def dataex(n):\n",
        "  itt=iter(train_set)\n",
        "  DATA=[]\n",
        "  for i in range(len(train_set)):\n",
        "    K=next(itt)\n",
        "    if K[1] in n:\n",
        "      DATA.append((K[0],K[1]))\n",
        "  return DATA\n",
        "\n",
        "class Customdata(torch.utils.data.Dataset):\n",
        "  def __init__(self,n,transform=None):\n",
        "    self.dat=dataex(n)\n",
        "    self.transform=transform\n",
        "  def __len__(self):\n",
        "    return len(self.dat)\n",
        "  def __getitem__(self,index):\n",
        "    #if self.transform:\n",
        "    #  img=self.transform(self.dat[index][0])\n",
        "    return (self.dat[index][0],self.dat[index][1])\n"
      ],
      "metadata": {
        "id": "bW8E_s9erVyM"
      },
      "execution_count": null,
      "outputs": []
    },
    {
      "cell_type": "code",
      "source": [
        "#dat=Customdata([9,0,1,2,3,4,5,6,7,8])\n",
        "dat=Customdata([7])"
      ],
      "metadata": {
        "id": "yNyAO5ZJ9IaT"
      },
      "execution_count": null,
      "outputs": []
    },
    {
      "cell_type": "code",
      "source": [],
      "metadata": {
        "id": "eujcnAFQ9RSV"
      },
      "execution_count": null,
      "outputs": []
    },
    {
      "cell_type": "code",
      "source": [
        "\n",
        "def create(n):\n",
        "  itt=iter(train_set)\n",
        "  temp=torch.utils.data.ConcatDataset([next(iter(train_set))])\n",
        "  for i in range(len(train_set)-1):\n",
        "    K=next(itt)\n",
        "    if K[1]==n:\n",
        "      temp=torch.utils.data.ConcatDataset([temp,K])\n",
        "      #print(n)\n",
        "\n",
        "  #while next(iter(train_set)):\n",
        "   # \"Asf\"\n",
        "    #print(\"K\")\n",
        "    #if n==K[1]:\n",
        "     # temp=torch.utils.data.ConcatDataset([temp,next(iter(train_set))])\n",
        "     # print('hi')\n",
        "  #return temp\n",
        "  return temp\n"
      ],
      "metadata": {
        "id": "7SYo9y9zqPNU"
      },
      "execution_count": null,
      "outputs": []
    },
    {
      "cell_type": "code",
      "source": [],
      "metadata": {
        "id": "YzXRAQih9Pr6"
      },
      "execution_count": null,
      "outputs": []
    },
    {
      "cell_type": "code",
      "source": [
        "#temp=torch.utils.data.DataLoader(None)\n",
        "#temp=torch.utils.data.ConcatDataset([next(iter(train_loader))])\n",
        "#temp=create(7)\n",
        "train_loader2=torch.utils.data.DataLoader(dat,batch_size=batch_size,shuffle=True)"
      ],
      "metadata": {
        "id": "wQvNH7N4lSqG"
      },
      "execution_count": null,
      "outputs": []
    },
    {
      "cell_type": "code",
      "source": [
        "#K=next(iter(train_loader))\n",
        "#K\n",
        "len(train_loader),len(train_loader2)#,len(temp),len(train_set)\n",
        "#plt.imshow(real_samples[0].reshape(28,28),cmap='gray')"
      ],
      "metadata": {
        "colab": {
          "base_uri": "https://localhost:8080/"
        },
        "id": "rHYz-eQdu0sL",
        "outputId": "597114a2-d86a-4cd2-b9d6-8fd324ad1e4b"
      },
      "execution_count": null,
      "outputs": [
        {
          "output_type": "execute_result",
          "data": {
            "text/plain": [
              "(1875, 196)"
            ]
          },
          "metadata": {},
          "execution_count": 24
        }
      ]
    },
    {
      "cell_type": "code",
      "source": [],
      "metadata": {
        "id": "DnAH1l35vM3Y"
      },
      "execution_count": null,
      "outputs": []
    },
    {
      "cell_type": "code",
      "source": [
        "real_samples,mnist_labels=next(iter(train_loader2))\n",
        "for i in range(9):\n",
        "    ax=plt.subplot(3,3,i+1)\n",
        "    plt.imshow(real_samples[i].reshape(28,28),cmap='gray')\n",
        "    plt.xticks([])\n",
        "    plt.yticks([])\n",
        "    plt.title(mnist_labels[i])"
      ],
      "metadata": {
        "colab": {
          "base_uri": "https://localhost:8080/",
          "height": 428
        },
        "id": "wA2pEDs2lTky",
        "outputId": "598de790-037c-43d8-c272-44cec6592403"
      },
      "execution_count": null,
      "outputs": [
        {
          "output_type": "display_data",
          "data": {
            "text/plain": [
              "<Figure size 640x480 with 9 Axes>"
            ],
            "image/png": "[encoded data removed]"
          },
          "metadata": {}
        }
      ]
    },
    {
      "cell_type": "code",
      "source": [
        "class Discriminator(nn.Module):\n",
        "    def __init__(self):\n",
        "        super().__init__()\n",
        "        self.model=nn.Sequential(nn.Linear(28*28,1024),nn.ReLU(),nn.Dropout(0.3),\n",
        "            nn.Linear(1024,512),nn.ReLU(),nn.Dropout(0.3),\n",
        "            nn.Linear(512,256),nn.ReLU(),nn.Dropout(0.3),\n",
        "            nn.Linear(256,1),nn.Sigmoid())\n",
        "    def forward(self,x):\n",
        "        x=x.view(x.size(0),28*28)\n",
        "        output=self.model(x)\n",
        "        return output\n",
        "\n",
        "class Generator(nn.Module):\n",
        "    def __init__(self):\n",
        "        super().__init__()\n",
        "        self.model=nn.Sequential(nn.Linear(100,256),nn.ReLU(),\n",
        "                                 nn.Linear(256,512),nn.ReLU(),\n",
        "                                 nn.Linear(512,1024),nn.ReLU(),\n",
        "                                 nn.Linear(1024,28*28),nn.Tanh())\n",
        "    def forward(self,x):\n",
        "        output=self.model(x)\n",
        "        #print('p')\n",
        "        return output.view(x.size(0),1,28,28)"
      ],
      "metadata": {
        "id": "uB7_jUKulbcp"
      },
      "execution_count": null,
      "outputs": []
    },
    {
      "cell_type": "code",
      "source": [
        "discriminator,generator=Discriminator().to(device=device),Generator().to(device=device)"
      ],
      "metadata": {
        "id": "wq02raZRlvKL"
      },
      "execution_count": null,
      "outputs": []
    },
    {
      "cell_type": "code",
      "source": [
        "lr=0.0001\n",
        "num_epochs=100\n",
        "loss_function=nn.BCELoss()\n",
        "\n",
        "optimizer_d=torch.optim.Adam(discriminator.parameters(),lr=lr)\n",
        "optimizer_g=torch.optim.Adam(generator.parameters(),lr=lr)"
      ],
      "metadata": {
        "id": "TxO4o3PElxwZ"
      },
      "execution_count": null,
      "outputs": []
    },
    {
      "cell_type": "code",
      "source": [],
      "metadata": {
        "id": "1reEzoyy-LnP"
      },
      "execution_count": null,
      "outputs": []
    },
    {
      "cell_type": "code",
      "source": [
        "for epoch in range(num_epochs):\n",
        "    for n, (real_samples,mnist_labels) in enumerate(train_loader2):\n",
        "        #if n==batch_size-2:\n",
        "         # break\n",
        "        real_samples=real_samples.to(device=device)\n",
        "        #print(real_samples.shape)\n",
        "        real_samples_labels=torch.ones((batch_size,1)).to(device=device)\n",
        "        latent_space_samples=torch.randn((batch_size,100)).to(device=device)\n",
        "        generated_samples=generator(latent_space_samples)\n",
        "        #print(generated_samples.shape)\n",
        "        generated_samples_labels=torch.zeros((batch_size,1)).to(device=device)\n",
        "        all_samples=torch.cat((real_samples,generated_samples))\n",
        "        all_samples_labels=torch.cat((real_samples_labels,generated_samples_labels))\n",
        "\n",
        "        discriminator.zero_grad()\n",
        "        output_discriminator=discriminator(all_samples)\n",
        "        #print(output_discriminator.shape)\n",
        "        loss_discriminator=loss_function(output_discriminator,all_samples_labels)\n",
        "        loss_discriminator.backward()\n",
        "        optimizer_d.step()\n",
        "\n",
        "\n",
        "        latent_space_samples=torch.randn((batch_size,100)).to(device=device)\n",
        "\n",
        "        generator.zero_grad()\n",
        "        generated_samples=generator(latent_space_samples)\n",
        "        output_discriminator_generated=discriminator(generated_samples)\n",
        "        loss_generator=loss_function(output_discriminator_generated,real_samples_labels)\n",
        "        loss_generator.backward()\n",
        "        optimizer_g.step()\n",
        "\n",
        "        if n==batch_size-2:\n",
        "            print(f\"epoch : {epoch} Loss D: {loss_discriminator}\")\n",
        "            print(f\"epoch : {epoch} Loss G: {loss_generator}\")\n",
        "            break"
      ],
      "metadata": {
        "colab": {
          "base_uri": "https://localhost:8080/"
        },
        "id": "RZm1E4nTl5p3",
        "outputId": "25ae34fc-cf6d-48f6-83b5-c3ccaa5fc068"
      },
      "execution_count": null,
      "outputs": [
        {
          "output_type": "stream",
          "name": "stdout",
          "text": [
            "epoch : 0 Loss D: 0.5157139301300049\n",
            "epoch : 0 Loss G: 0.5180379748344421\n",
            "epoch : 1 Loss D: 0.6478623747825623\n",
            "epoch : 1 Loss G: 0.8086296319961548\n",
            "epoch : 2 Loss D: 0.1976015269756317\n",
            "epoch : 2 Loss G: 2.0110812187194824\n",
            "epoch : 3 Loss D: 0.18628856539726257\n",
            "epoch : 3 Loss G: 1.8285956382751465\n",
            "epoch : 4 Loss D: 0.16610440611839294\n",
            "epoch : 4 Loss G: 1.75335693359375\n",
            "epoch : 5 Loss D: 0.17349597811698914\n",
            "epoch : 5 Loss G: 1.4337286949157715\n",
            "epoch : 6 Loss D: 0.09379225969314575\n",
            "epoch : 6 Loss G: 1.9077205657958984\n",
            "epoch : 7 Loss D: 0.10156096518039703\n",
            "epoch : 7 Loss G: 2.0638835430145264\n",
            "epoch : 8 Loss D: 0.06296917796134949\n",
            "epoch : 8 Loss G: 2.905857563018799\n",
            "epoch : 9 Loss D: 0.23465333878993988\n",
            "epoch : 9 Loss G: 2.8500566482543945\n",
            "epoch : 10 Loss D: 0.1904074251651764\n",
            "epoch : 10 Loss G: 5.969527244567871\n",
            "epoch : 11 Loss D: 0.01704031229019165\n",
            "epoch : 11 Loss G: 7.055681228637695\n",
            "epoch : 12 Loss D: 0.18988990783691406\n",
            "epoch : 12 Loss G: 5.363645553588867\n",
            "epoch : 13 Loss D: 0.19962938129901886\n",
            "epoch : 13 Loss G: 4.148680686950684\n",
            "epoch : 14 Loss D: 0.14412003755569458\n",
            "epoch : 14 Loss G: 3.4665474891662598\n",
            "epoch : 15 Loss D: 0.1207551658153534\n",
            "epoch : 15 Loss G: 5.934371471405029\n",
            "epoch : 16 Loss D: 0.04545843228697777\n",
            "epoch : 16 Loss G: 4.923377990722656\n",
            "epoch : 17 Loss D: 0.06321629881858826\n",
            "epoch : 17 Loss G: 4.391266345977783\n",
            "epoch : 18 Loss D: 0.3149262070655823\n",
            "epoch : 18 Loss G: 3.311305046081543\n",
            "epoch : 19 Loss D: 0.1951759308576584\n",
            "epoch : 19 Loss G: 2.492611885070801\n",
            "epoch : 20 Loss D: 0.29776743054389954\n",
            "epoch : 20 Loss G: 2.946956157684326\n",
            "epoch : 21 Loss D: 0.1695222556591034\n",
            "epoch : 21 Loss G: 2.9153921604156494\n",
            "epoch : 22 Loss D: 0.11394082754850388\n",
            "epoch : 22 Loss G: 2.6873552799224854\n",
            "epoch : 23 Loss D: 0.08005918562412262\n",
            "epoch : 23 Loss G: 3.5258467197418213\n",
            "epoch : 24 Loss D: 0.08018498122692108\n",
            "epoch : 24 Loss G: 2.7683115005493164\n",
            "epoch : 25 Loss D: 0.08939157426357269\n",
            "epoch : 25 Loss G: 3.7540836334228516\n",
            "epoch : 26 Loss D: 0.08531591296195984\n",
            "epoch : 26 Loss G: 2.516080856323242\n",
            "epoch : 27 Loss D: 0.03815183788537979\n",
            "epoch : 27 Loss G: 3.9960265159606934\n",
            "epoch : 28 Loss D: 0.07037176191806793\n",
            "epoch : 28 Loss G: 4.045619964599609\n",
            "epoch : 29 Loss D: 0.033670417964458466\n",
            "epoch : 29 Loss G: 4.612875461578369\n",
            "epoch : 30 Loss D: 0.05348370969295502\n",
            "epoch : 30 Loss G: 4.2664642333984375\n",
            "epoch : 31 Loss D: 0.25292903184890747\n",
            "epoch : 31 Loss G: 3.077084541320801\n",
            "epoch : 32 Loss D: 0.04189387708902359\n",
            "epoch : 32 Loss G: 5.011590480804443\n",
            "epoch : 33 Loss D: 0.016606297343969345\n",
            "epoch : 33 Loss G: 5.27878475189209\n",
            "epoch : 34 Loss D: 0.01746612973511219\n",
            "epoch : 34 Loss G: 4.816431522369385\n",
            "epoch : 35 Loss D: 0.04783155769109726\n",
            "epoch : 35 Loss G: 4.845282554626465\n",
            "epoch : 36 Loss D: 0.1415809541940689\n",
            "epoch : 36 Loss G: 6.165558338165283\n",
            "epoch : 37 Loss D: 0.08272109925746918\n",
            "epoch : 37 Loss G: 4.542294502258301\n",
            "epoch : 38 Loss D: 0.04752092808485031\n",
            "epoch : 38 Loss G: 5.096819877624512\n",
            "epoch : 39 Loss D: 0.11134352535009384\n",
            "epoch : 39 Loss G: 4.418798446655273\n",
            "epoch : 40 Loss D: 0.025055164471268654\n",
            "epoch : 40 Loss G: 5.193777084350586\n",
            "epoch : 41 Loss D: 0.05082672834396362\n",
            "epoch : 41 Loss G: 5.652026653289795\n",
            "epoch : 42 Loss D: 0.09548228979110718\n",
            "epoch : 42 Loss G: 4.9400763511657715\n",
            "epoch : 43 Loss D: 0.0997496247291565\n",
            "epoch : 43 Loss G: 3.50425386428833\n",
            "epoch : 44 Loss D: 0.02840299904346466\n",
            "epoch : 44 Loss G: 5.013948440551758\n",
            "epoch : 45 Loss D: 0.11073191463947296\n",
            "epoch : 45 Loss G: 4.672567367553711\n",
            "epoch : 46 Loss D: 0.016977006569504738\n",
            "epoch : 46 Loss G: 7.065874099731445\n",
            "epoch : 47 Loss D: 0.03209255635738373\n",
            "epoch : 47 Loss G: 6.458038330078125\n",
            "epoch : 48 Loss D: 0.014161660335958004\n",
            "epoch : 48 Loss G: 7.655853271484375\n",
            "epoch : 49 Loss D: 0.03164089843630791\n",
            "epoch : 49 Loss G: 5.01773738861084\n",
            "epoch : 50 Loss D: 0.09170427173376083\n",
            "epoch : 50 Loss G: 5.778722763061523\n",
            "epoch : 51 Loss D: 0.2000306248664856\n",
            "epoch : 51 Loss G: 4.655971527099609\n",
            "epoch : 52 Loss D: 0.13986361026763916\n",
            "epoch : 52 Loss G: 4.605289459228516\n",
            "epoch : 53 Loss D: 0.03892965614795685\n",
            "epoch : 53 Loss G: 5.20828914642334\n",
            "epoch : 54 Loss D: 0.15007749199867249\n",
            "epoch : 54 Loss G: 4.629775047302246\n",
            "epoch : 55 Loss D: 0.046992212533950806\n",
            "epoch : 55 Loss G: 5.18755578994751\n",
            "epoch : 56 Loss D: 0.0173981711268425\n",
            "epoch : 56 Loss G: 8.209007263183594\n",
            "epoch : 57 Loss D: 0.018333986401557922\n",
            "epoch : 57 Loss G: 8.805231094360352\n",
            "epoch : 58 Loss D: 0.012699377723038197\n",
            "epoch : 58 Loss G: 9.318513870239258\n",
            "epoch : 59 Loss D: 0.25849565863609314\n",
            "epoch : 59 Loss G: 6.459056854248047\n",
            "epoch : 60 Loss D: 0.08294885605573654\n",
            "epoch : 60 Loss G: 4.023924827575684\n",
            "epoch : 61 Loss D: 0.07905696332454681\n",
            "epoch : 61 Loss G: 4.219609260559082\n",
            "epoch : 62 Loss D: 0.15937098860740662\n",
            "epoch : 62 Loss G: 4.123569488525391\n",
            "epoch : 63 Loss D: 0.09154774248600006\n",
            "epoch : 63 Loss G: 5.290273666381836\n",
            "epoch : 64 Loss D: 0.030734242871403694\n",
            "epoch : 64 Loss G: 7.808656692504883\n",
            "epoch : 65 Loss D: 0.07946853339672089\n",
            "epoch : 65 Loss G: 5.707831382751465\n",
            "epoch : 66 Loss D: 0.1671692430973053\n",
            "epoch : 66 Loss G: 6.649000644683838\n",
            "epoch : 67 Loss D: 0.041599348187446594\n",
            "epoch : 67 Loss G: 7.386375904083252\n",
            "epoch : 68 Loss D: 0.11250175535678864\n",
            "epoch : 68 Loss G: 6.1069183349609375\n",
            "epoch : 69 Loss D: 0.048743560910224915\n",
            "epoch : 69 Loss G: 4.289966106414795\n",
            "epoch : 70 Loss D: 0.11451981216669083\n",
            "epoch : 70 Loss G: 4.302976608276367\n",
            "epoch : 71 Loss D: 0.07856408506631851\n",
            "epoch : 71 Loss G: 4.128926753997803\n",
            "epoch : 72 Loss D: 0.049724213778972626\n",
            "epoch : 72 Loss G: 3.971595287322998\n",
            "epoch : 73 Loss D: 0.03509010002017021\n",
            "epoch : 73 Loss G: 6.4847092628479\n",
            "epoch : 74 Loss D: 0.2001652717590332\n",
            "epoch : 74 Loss G: 5.500548362731934\n",
            "epoch : 75 Loss D: 0.02899324521422386\n",
            "epoch : 75 Loss G: 5.174745082855225\n",
            "epoch : 76 Loss D: 0.07170411199331284\n",
            "epoch : 76 Loss G: 6.187207221984863\n",
            "epoch : 77 Loss D: 0.2391635775566101\n",
            "epoch : 77 Loss G: 6.223793983459473\n",
            "epoch : 78 Loss D: 0.2250988781452179\n",
            "epoch : 78 Loss G: 4.211297512054443\n",
            "epoch : 79 Loss D: 0.0783824548125267\n",
            "epoch : 79 Loss G: 5.169311046600342\n",
            "epoch : 80 Loss D: 0.027138695120811462\n",
            "epoch : 80 Loss G: 6.108202934265137\n",
            "epoch : 81 Loss D: 0.027140522375702858\n",
            "epoch : 81 Loss G: 4.365841865539551\n",
            "epoch : 82 Loss D: 0.030815662816166878\n",
            "epoch : 82 Loss G: 6.468231201171875\n",
            "epoch : 83 Loss D: 0.009296925738453865\n",
            "epoch : 83 Loss G: 5.138784408569336\n",
            "epoch : 84 Loss D: 0.13906335830688477\n",
            "epoch : 84 Loss G: 4.517512321472168\n",
            "epoch : 85 Loss D: 0.10532663762569427\n",
            "epoch : 85 Loss G: 4.74534797668457\n",
            "epoch : 86 Loss D: 0.018591884523630142\n",
            "epoch : 86 Loss G: 7.490382194519043\n",
            "epoch : 87 Loss D: 0.06726358830928802\n",
            "epoch : 87 Loss G: 6.076384544372559\n",
            "epoch : 88 Loss D: 0.15680734813213348\n",
            "epoch : 88 Loss G: 6.209075927734375\n",
            "epoch : 89 Loss D: 0.1872628778219223\n",
            "epoch : 89 Loss G: 5.363150596618652\n",
            "epoch : 90 Loss D: 0.009771685115993023\n",
            "epoch : 90 Loss G: 6.485629081726074\n",
            "epoch : 91 Loss D: 0.13872474431991577\n",
            "epoch : 91 Loss G: 6.311902046203613\n",
            "epoch : 92 Loss D: 0.08286476880311966\n",
            "epoch : 92 Loss G: 6.327131271362305\n",
            "epoch : 93 Loss D: 0.07424107193946838\n",
            "epoch : 93 Loss G: 6.828244686126709\n",
            "epoch : 94 Loss D: 0.017138363793492317\n",
            "epoch : 94 Loss G: 5.96505069732666\n",
            "epoch : 95 Loss D: 0.09587506949901581\n",
            "epoch : 95 Loss G: 3.718329906463623\n",
            "epoch : 96 Loss D: 0.0717945545911789\n",
            "epoch : 96 Loss G: 4.356036186218262\n",
            "epoch : 97 Loss D: 0.07589384913444519\n",
            "epoch : 97 Loss G: 5.279257774353027\n",
            "epoch : 98 Loss D: 0.08524154871702194\n",
            "epoch : 98 Loss G: 5.139627933502197\n",
            "epoch : 99 Loss D: 0.0033016761299222708\n",
            "epoch : 99 Loss G: 8.24925422668457\n"
          ]
        }
      ]
    },
    {
      "cell_type": "code",
      "source": [
        "latent_space_samples=torch.randn(batch_size,100).to(device=device)\n",
        "generated_s=generator(latent_space_samples).cpu().detach()\n"
      ],
      "metadata": {
        "id": "nC9YM22Hl6qM"
      },
      "execution_count": null,
      "outputs": []
    },
    {
      "cell_type": "code",
      "source": [
        "for i in range(9):\n",
        "  ax=plt.subplot(3,3,i+1)\n",
        "  plt.imshow(generated_s[i].reshape(28,28),cmap='gray')\n"
      ],
      "metadata": {
        "colab": {
          "base_uri": "https://localhost:8080/",
          "height": 433
        },
        "id": "gd-S1hERmoce",
        "outputId": "2edc28ad-6dad-4fda-d94a-0bbb785982b5"
      },
      "execution_count": null,
      "outputs": [
        {
          "output_type": "display_data",
          "data": {
            "text/plain": [
              "<Figure size 640x480 with 9 Axes>"
            ],
            "image/png": "[encoded data removed]"
          },
          "metadata": {}
        }
      ]
    },
    {
      "cell_type": "code",
      "source": [],
      "metadata": {
        "id": "3n5GhMqkmzjn"
      },
      "execution_count": null,
      "outputs": []
    }
  ]
}